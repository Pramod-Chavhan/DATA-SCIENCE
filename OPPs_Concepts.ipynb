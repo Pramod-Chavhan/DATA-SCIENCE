{
  "cells": [
    {
      "cell_type": "markdown",
      "metadata": {
        "id": "-0IsaOdmMSfm"
      },
      "source": [
        "## OOPs Concept In **Python**\n",
        "\n",
        "- Class\n",
        "- Objects\n",
        "- Polymorphism\n",
        "- Encapculation\n",
        "- Inheritance\n",
        "- Abstarction\n"
      ]
    },
    {
      "cell_type": "markdown",
      "metadata": {
        "id": "5FZ6dqKJM7ej"
      },
      "source": [
        "## ***Class In Python***\n",
        "Class : class is collections of object . A class contain the blueprint of Obj.\n",
        "\n",
        "- class are created by keyword Class.\n",
        "- attributes are the veriable that belong to a class\n",
        "- attr are always public & can asseced using dot(.) oprator\n"
      ]
    },
    {
      "cell_type": "code",
      "execution_count": null,
      "metadata": {
        "id": "F2UqYE7EMNcQ"
      },
      "outputs": [],
      "source": [
        "class Employee_Details:\n",
        "\n",
        "  def emp(self, name ,email):\n",
        "    self.name = name\n",
        "    self.email = email\n",
        "\n",
        "  def emp_view(self):\n",
        "    print(self.name, self.email)\n"
      ]
    },
    {
      "cell_type": "code",
      "execution_count": null,
      "metadata": {
        "id": "NOD7n5jHOrrV"
      },
      "outputs": [],
      "source": [
        "obj = Employee_Details()\n",
        "obj1= Employee_Details()"
      ]
    },
    {
      "cell_type": "code",
      "execution_count": null,
      "metadata": {
        "id": "pUCeSmfyPKsu"
      },
      "outputs": [],
      "source": [
        "obj.emp(\"Karan\",\"karan@gmail.com\")"
      ]
    },
    {
      "cell_type": "code",
      "execution_count": null,
      "metadata": {
        "colab": {
          "base_uri": "https://localhost:8080/"
        },
        "id": "g5qDZBzxPPgz",
        "outputId": "58bb41e1-2f9b-4b13-996b-1c2a18a4f0c1"
      },
      "outputs": [
        {
          "name": "stdout",
          "output_type": "stream",
          "text": [
            "Karan karan@gmail.com\n"
          ]
        }
      ],
      "source": [
        "obj.emp_view()"
      ]
    },
    {
      "cell_type": "code",
      "execution_count": null,
      "metadata": {
        "id": "YQJCZfF2PcEq"
      },
      "outputs": [],
      "source": []
    },
    {
      "cell_type": "markdown",
      "metadata": {
        "id": "IRR7rQrIQSJG"
      },
      "source": [
        "Empty Class"
      ]
    },
    {
      "cell_type": "code",
      "execution_count": null,
      "metadata": {
        "id": "1PFYjaBlQVHU"
      },
      "outputs": [],
      "source": [
        "class Dog:\n",
        "  pass"
      ]
    },
    {
      "cell_type": "markdown",
      "metadata": {
        "id": "VAXKtAu_Qq00"
      },
      "source": [
        "Object :- Object is an entity that has a state and behaviar with it. it may be any real world object like a mouse\n",
        "\n",
        "State :- it is representted by the atrributes of an objects also reflect the properties of an object\n",
        "\n",
        "Behavior:- it represented by the method of an object\n",
        "\n",
        "Identity :- it Gives a unique name to an object also give to acces od another object\n"
      ]
    },
    {
      "cell_type": "code",
      "execution_count": null,
      "metadata": {
        "colab": {
          "base_uri": "https://localhost:8080/",
          "height": 35
        },
        "id": "mh_F21EXRy_u",
        "outputId": "f29b9e7d-c044-488c-9061-a316ff4e468b"
      },
      "outputs": [
        {
          "data": {
            "application/vnd.google.colaboratory.intrinsic+json": {
              "type": "string"
            },
            "text/plain": [
              "'karan@gmail.com'"
            ]
          },
          "execution_count": 9,
          "metadata": {},
          "output_type": "execute_result"
        }
      ],
      "source": [
        "obj.email"
      ]
    },
    {
      "cell_type": "markdown",
      "metadata": {
        "id": "lIfBnnK6Q-PD"
      },
      "source": [
        "## ***Inheritance:***\n",
        "\n",
        "- Inheritance is the capacity of base class to derived or inherid the properties from anathor class\n",
        "\n",
        "***Types***\n",
        "- single Inhe  A --> B\n",
        "\n",
        "- Multiple   A <-->B\n",
        "              \\   /\n",
        "                C\n",
        "\n",
        "- Multilevel A --> B --> C\n",
        "\n",
        "\n",
        "- heirarchical   A\n",
        "                / \\\n",
        "              B     C\n",
        "\n",
        "- hybrid A  < -- > B\n",
        "          \\   |   /\n",
        "           \\  |  /\n",
        "            C<-->D"
      ]
    },
    {
      "cell_type": "code",
      "execution_count": null,
      "metadata": {
        "id": "CUPVzApuXFhO"
      },
      "outputs": [],
      "source": [
        "# single Inheritance\n",
        "\n",
        "class Test:    # Parent Class\n",
        "  def test_method(self):\n",
        "    return \"This is test_method ...!\"\n",
        "\n",
        "class Child_class(Test):   #child Class\n",
        "  pass"
      ]
    },
    {
      "cell_type": "code",
      "execution_count": null,
      "metadata": {
        "id": "k2RLoQTmXZmp"
      },
      "outputs": [],
      "source": [
        "child_obj = Child_class()  # object creation"
      ]
    },
    {
      "cell_type": "code",
      "execution_count": null,
      "metadata": {
        "colab": {
          "base_uri": "https://localhost:8080/",
          "height": 35
        },
        "id": "hLSLctr7X7wx",
        "outputId": "8d62f8a3-e620-4181-fd12-703ff264f6e4"
      },
      "outputs": [
        {
          "data": {
            "application/vnd.google.colaboratory.intrinsic+json": {
              "type": "string"
            },
            "text/plain": [
              "'This is test_mdethod ...!'"
            ]
          },
          "execution_count": 13,
          "metadata": {},
          "output_type": "execute_result"
        }
      ],
      "source": [
        "child_obj.test_method() # method called by obj"
      ]
    },
    {
      "cell_type": "code",
      "execution_count": null,
      "metadata": {
        "id": "5AZ8YcwzYAqU"
      },
      "outputs": [],
      "source": [
        "## Multilevel Inheritance\n",
        "\n",
        "class Grand_Parent:    # Grand Parent Class\n",
        "  def test_method(self):\n",
        "    return \"This is Grand Parent class...!\"\n",
        "\n",
        "class Parent(Grand_Parent):  # parent class\n",
        "  def test_method2(self):\n",
        "    return \"This is Parent class\"\n",
        "\n",
        "class Child_class(Parent):   #child Class\n",
        "  pass"
      ]
    },
    {
      "cell_type": "code",
      "execution_count": null,
      "metadata": {
        "id": "wlTMKa51ZHEM"
      },
      "outputs": [],
      "source": [
        "obj = Child_class()"
      ]
    },
    {
      "cell_type": "code",
      "execution_count": null,
      "metadata": {
        "colab": {
          "base_uri": "https://localhost:8080/",
          "height": 35
        },
        "id": "E2_OsrhRZXlw",
        "outputId": "6f0cdeed-ee63-45f2-ab4d-d78b4d4eb9a3"
      },
      "outputs": [
        {
          "data": {
            "application/vnd.google.colaboratory.intrinsic+json": {
              "type": "string"
            },
            "text/plain": [
              "'This is Grand Parent class...!'"
            ]
          },
          "execution_count": 17,
          "metadata": {},
          "output_type": "execute_result"
        }
      ],
      "source": [
        "obj.test_method()"
      ]
    },
    {
      "cell_type": "code",
      "execution_count": null,
      "metadata": {
        "colab": {
          "base_uri": "https://localhost:8080/",
          "height": 35
        },
        "id": "oKbZd1GIZg9L",
        "outputId": "4f5bc652-d643-46ed-fecd-f204a4270673"
      },
      "outputs": [
        {
          "data": {
            "application/vnd.google.colaboratory.intrinsic+json": {
              "type": "string"
            },
            "text/plain": [
              "'This is Parent class'"
            ]
          },
          "execution_count": 18,
          "metadata": {},
          "output_type": "execute_result"
        }
      ],
      "source": [
        "obj.test_method2()"
      ]
    },
    {
      "cell_type": "code",
      "execution_count": null,
      "metadata": {
        "id": "gW1s-IxgZlgO"
      },
      "outputs": [],
      "source": [
        "# Multiple Inheritance\n",
        "\n",
        "class Time1:\n",
        "  def test1(self):\n",
        "    return \"this is time1 class\"\n",
        "\n",
        "class Time2:\n",
        "    def test2(self):\n",
        "      return \"this is time2 Class\"\n",
        "\n",
        "class Time3(Time1, Time2):\n",
        "  pass\n"
      ]
    },
    {
      "cell_type": "code",
      "execution_count": null,
      "metadata": {
        "id": "awlQRuqbbhaO"
      },
      "outputs": [],
      "source": [
        "obj = Time3()"
      ]
    },
    {
      "cell_type": "code",
      "execution_count": null,
      "metadata": {
        "colab": {
          "base_uri": "https://localhost:8080/",
          "height": 35
        },
        "id": "tu_dinAobnmP",
        "outputId": "94b9e219-e311-4eb3-97ea-168a0c8230c8"
      },
      "outputs": [
        {
          "data": {
            "application/vnd.google.colaboratory.intrinsic+json": {
              "type": "string"
            },
            "text/plain": [
              "'this is time1 class'"
            ]
          },
          "execution_count": 22,
          "metadata": {},
          "output_type": "execute_result"
        }
      ],
      "source": [
        "obj.test1()"
      ]
    },
    {
      "cell_type": "code",
      "execution_count": null,
      "metadata": {
        "colab": {
          "base_uri": "https://localhost:8080/",
          "height": 35
        },
        "id": "912PjGTbbqnm",
        "outputId": "b3f74704-8c17-42cc-c671-b7e00e8d630e"
      },
      "outputs": [
        {
          "data": {
            "application/vnd.google.colaboratory.intrinsic+json": {
              "type": "string"
            },
            "text/plain": [
              "'this is time2 Class'"
            ]
          },
          "execution_count": 23,
          "metadata": {},
          "output_type": "execute_result"
        }
      ],
      "source": [
        "obj.test2()"
      ]
    },
    {
      "cell_type": "code",
      "execution_count": null,
      "metadata": {
        "colab": {
          "base_uri": "https://localhost:8080/"
        },
        "id": "90aJ13rqbtCV",
        "outputId": "10442a37-71cf-470b-ba55-b936a34f32bf"
      },
      "outputs": [
        {
          "name": "stdout",
          "output_type": "stream",
          "text": [
            "This is the Time class\n",
            "This is the Time class\n",
            "This is the Time class\n"
          ]
        }
      ],
      "source": [
        "# Base class (Parent class)\n",
        "class Time:\n",
        "    def test(self):\n",
        "        return \"This is the Time class\"\n",
        "\n",
        "# Derived class 1 (Child class of Time)\n",
        "class Time1(Time):\n",
        "    pass\n",
        "\n",
        "# Derived class 2 (Child class of Time)\n",
        "class Time2(Time):\n",
        "    pass\n",
        "\n",
        "# Derived class 3 (Child class of Time)\n",
        "class Time3(Time):\n",
        "    pass\n",
        "\n",
        "# Testing hierarchical inheritance\n",
        "t1 = Time1()\n",
        "t2 = Time2()\n",
        "t3 = Time3()\n",
        "\n",
        "print(t1.test())  # Output: This is the Time class\n",
        "print(t2.test())  # Output: This is the Time class\n",
        "print(t3.test())  # Output: This is the Time class"
      ]
    },
    {
      "cell_type": "markdown",
      "metadata": {
        "id": "-69BeB31ufWu"
      },
      "source": [
        "## ***Polymorphism***\n",
        "\n",
        "poly - many ,\n",
        "Morphism - Behaviour/Forms\n",
        "\n",
        "Polymorphism refers to having to multiple froms , its used the same funtion name ,but with different signatures,for multiple types.\n",
        "\n"
      ]
    },
    {
      "cell_type": "code",
      "execution_count": null,
      "metadata": {
        "id": "4P0Ns4I4um2m"
      },
      "outputs": [],
      "source": [
        "class Data_Science:\n",
        "    def slybuss(self):\n",
        "      print(\"Data Science\")\n",
        "\n",
        "class Web_devloper:\n",
        "    def slybuss(self):\n",
        "      print(\"Web Devloper\")\n",
        "\n",
        "def class_parser(ver):\n",
        "  for i in ver:\n",
        "    i.slybuss()"
      ]
    },
    {
      "cell_type": "code",
      "execution_count": null,
      "metadata": {
        "colab": {
          "base_uri": "https://localhost:8080/"
        },
        "id": "ZERyqT2KwZDL",
        "outputId": "fac134a8-34d6-4ba4-e03d-78d24c920899"
      },
      "outputs": [
        {
          "name": "stdout",
          "output_type": "stream",
          "text": [
            "Data Science\n",
            "Web Devloper\n"
          ]
        }
      ],
      "source": [
        "ds = Data_Science() # create object\n",
        "wd = Web_devloper()\n",
        "ver = [ds,wd]  # passing both object to obj viea List\n",
        "class_parser(obj) #calling class_parser Funtion"
      ]
    },
    {
      "cell_type": "markdown",
      "metadata": {
        "id": "cUW22oCrxILV"
      },
      "source": [
        "## ***Encapsulation***\n",
        "\n",
        "these is the concept of Wrapping data and method that work with data in one Unit.\n",
        "\n",
        " this prevent data modification acendenttally by limiting acess to variable and method .\n",
        "\n",
        " An objects can chnages a veriable value to prevent accedental changes,these veriable are called private veriable.\n",
        "\n",
        "\n",
        "\n",
        "1.   Private Member : ( __ ) Double Underscore\n",
        "2.   Protected Member : ( _ ) Single Underscore\n",
        "\n"
      ]
    },
    {
      "cell_type": "code",
      "execution_count": null,
      "metadata": {
        "id": "E_OzMFzDoVnd"
      },
      "outputs": [],
      "source": [
        "class Bank_Account:\n",
        "    def __init__(self,balance):\n",
        "      self.__balance = balance\n",
        "\n",
        "    def deposite(self, amount):\n",
        "      self.__balance = self.__balance + amount\n",
        "\n",
        "    def withdrow(self, amount):\n",
        "      if self.__balance >= amount:\n",
        "        self.__balance = self.__balance - amount\n",
        "        return True\n",
        "      else:\n",
        "        return False\n",
        "\n",
        "    def get_balance(self):\n",
        "      return self.__balance"
      ]
    },
    {
      "cell_type": "code",
      "execution_count": null,
      "metadata": {
        "id": "SygXdEDuqAdf"
      },
      "outputs": [],
      "source": [
        "Mayu = Bank_Account(10000)"
      ]
    },
    {
      "cell_type": "code",
      "execution_count": null,
      "metadata": {
        "colab": {
          "base_uri": "https://localhost:8080/"
        },
        "id": "PtlehkOhq5TK",
        "outputId": "8dd1e25e-b1d4-4aed-e621-199b764db76e"
      },
      "outputs": [
        {
          "data": {
            "text/plain": [
              "10000"
            ]
          },
          "execution_count": 9,
          "metadata": {},
          "output_type": "execute_result"
        }
      ],
      "source": [
        "Mayu.get_balance()"
      ]
    },
    {
      "cell_type": "code",
      "execution_count": null,
      "metadata": {
        "id": "fO1t_PylrAUh"
      },
      "outputs": [],
      "source": [
        "Mayu.deposite(5000)"
      ]
    },
    {
      "cell_type": "code",
      "execution_count": null,
      "metadata": {
        "colab": {
          "base_uri": "https://localhost:8080/"
        },
        "id": "Bzefx73GrQcR",
        "outputId": "5c7fa333-c747-44f8-a919-e810f0221441"
      },
      "outputs": [
        {
          "data": {
            "text/plain": [
              "15000"
            ]
          },
          "execution_count": 11,
          "metadata": {},
          "output_type": "execute_result"
        }
      ],
      "source": [
        "Mayu.get_balance()"
      ]
    },
    {
      "cell_type": "code",
      "execution_count": null,
      "metadata": {
        "colab": {
          "base_uri": "https://localhost:8080/"
        },
        "id": "0CS5RsIdrWgv",
        "outputId": "d69ddda9-bc2c-4cfe-ca82-aa828ca5cf9c"
      },
      "outputs": [
        {
          "data": {
            "text/plain": [
              "True"
            ]
          },
          "execution_count": 12,
          "metadata": {},
          "output_type": "execute_result"
        }
      ],
      "source": [
        "Mayu.withdrow(15000)"
      ]
    },
    {
      "cell_type": "code",
      "execution_count": null,
      "metadata": {
        "colab": {
          "base_uri": "https://localhost:8080/"
        },
        "id": "s3MiEcuOrc-3",
        "outputId": "2ada198b-4b3a-49b2-8e10-4eb6eb7b2046"
      },
      "outputs": [
        {
          "data": {
            "text/plain": [
              "0"
            ]
          },
          "execution_count": 13,
          "metadata": {},
          "output_type": "execute_result"
        }
      ],
      "source": [
        "Mayu.get_balance()"
      ]
    },
    {
      "cell_type": "markdown",
      "metadata": {
        "id": "9JNl5cFY9qoa"
      },
      "source": [
        "## ***Abstract***\n",
        "\n",
        "An Abstract classes can be considered a blueprint for other classes . it allows you to create a set of method that must be created within any child classes build from the abstract class.\n",
        "\n",
        "ABC :- Abstarct Bace Class / @abstract method"
      ]
    },
    {
      "cell_type": "code",
      "execution_count": null,
      "metadata": {
        "id": "KHBb715h-ihB"
      },
      "outputs": [],
      "source": [
        "import abc\n",
        "class pwskills:\n",
        "  @abc.abstractmethod\n",
        "  def student_details(self):\n",
        "    pass\n",
        "\n",
        "  @abc.abstractmethod\n",
        "  def student_marks(self):\n",
        "    pass\n",
        "\n",
        "class Student_class(pwskills):\n",
        "  def student_details(self):\n",
        "    return\"Pramod\"\n",
        "\n",
        "  def student_marks(self):\n",
        "    return\"95%\"\n",
        "\n",
        "class DSC(pwskills):\n",
        "  def student_details(self):\n",
        "    return \"DS Pramod\"\n",
        "\n",
        "  def student_marks(self):\n",
        "    return \"87%\"\n"
      ]
    },
    {
      "cell_type": "code",
      "execution_count": null,
      "metadata": {
        "id": "y-DaaWHOBWHf"
      },
      "outputs": [],
      "source": [
        "DS = Student_class() # object creation"
      ]
    },
    {
      "cell_type": "code",
      "execution_count": null,
      "metadata": {
        "colab": {
          "base_uri": "https://localhost:8080/",
          "height": 36
        },
        "id": "TISGUdsHwxr_",
        "outputId": "3ad8b7ab-1624-465c-a3bf-c4bce63faaf7"
      },
      "outputs": [
        {
          "data": {
            "application/vnd.google.colaboratory.intrinsic+json": {
              "type": "string"
            },
            "text/plain": [
              "'Pramod'"
            ]
          },
          "execution_count": 25,
          "metadata": {},
          "output_type": "execute_result"
        }
      ],
      "source": [
        "DS.student_details()"
      ]
    },
    {
      "cell_type": "code",
      "execution_count": null,
      "metadata": {
        "colab": {
          "base_uri": "https://localhost:8080/",
          "height": 36
        },
        "id": "RvMuSHsBBcH8",
        "outputId": "0f964b7c-f298-4684-b5da-81d4c6e81f34"
      },
      "outputs": [
        {
          "data": {
            "application/vnd.google.colaboratory.intrinsic+json": {
              "type": "string"
            },
            "text/plain": [
              "'DS Pramod'"
            ]
          },
          "execution_count": 27,
          "metadata": {},
          "output_type": "execute_result"
        }
      ],
      "source": [
        "ds = DSC()\n",
        "ds.student_details()"
      ]
    },
    {
      "cell_type": "code",
      "execution_count": null,
      "metadata": {
        "colab": {
          "base_uri": "https://localhost:8080/",
          "height": 36
        },
        "id": "HOFzyc3sxdlr",
        "outputId": "c33763b2-6691-4f83-da11-6a8fb261ebc0"
      },
      "outputs": [
        {
          "data": {
            "application/vnd.google.colaboratory.intrinsic+json": {
              "type": "string"
            },
            "text/plain": [
              "'87%'"
            ]
          },
          "execution_count": 28,
          "metadata": {},
          "output_type": "execute_result"
        }
      ],
      "source": [
        "ds.student_marks()"
      ]
    },
    {
      "cell_type": "markdown",
      "metadata": {
        "id": "4z_G78gbCLAT"
      },
      "source": [
        "## ***Static Method***\n",
        "\n",
        "A static Method does not received an implicit frist argument .\n",
        "\n",
        "A static methos is also a method that is bound to the class and not the object of the class.\n",
        "\n",
        "Syntax:\n",
        "\n",
        "    class Demo(obj):\n",
        "         \n",
        "          @staticMethod\n",
        "          def Func(arg1,arg2,...):\n",
        "             # statements...\n",
        "              return"
      ]
    },
    {
      "cell_type": "markdown",
      "metadata": {
        "id": "cZXcmda9MeHn"
      },
      "source": [
        "## ***Class Method***\n",
        "\n",
        "Without creating an object (Class Overloading )\n"
      ]
    },
    {
      "cell_type": "code",
      "execution_count": null,
      "metadata": {
        "id": "GubSZ3MZMdph"
      },
      "outputs": [],
      "source": [
        "class pwskills :\n",
        "  def __init__(self,name,email,mobile):\n",
        "    self.name = name\n",
        "    self.email = email\n",
        "    self.mob = mobile\n",
        "\n",
        "  @classmethod\n",
        "  def details(cls,name,email):\n",
        "    return cls(name,email)\n",
        "\n",
        "  def student_details(self):\n",
        "    print(self.name,self.email)"
      ]
    },
    {
      "cell_type": "code",
      "execution_count": null,
      "metadata": {
        "id": "pjqwR4wiOjAN"
      },
      "outputs": [],
      "source": [
        "pw = pwskills.details(\"Pramod\",\"Pramod@gmail.com\")"
      ]
    },
    {
      "cell_type": "code",
      "execution_count": null,
      "metadata": {
        "id": "Z8DqElE6yrsu"
      },
      "outputs": [],
      "source": [
        "pw2 = pwskills.details(\"mayu\",\"mayui@gmail.com\")"
      ]
    },
    {
      "cell_type": "code",
      "execution_count": null,
      "metadata": {
        "colab": {
          "base_uri": "https://localhost:8080/",
          "height": 36
        },
        "id": "YItYi1xQyz7R",
        "outputId": "48c43c6a-0e14-4406-ff74-977e49ec4b80"
      },
      "outputs": [
        {
          "data": {
            "application/vnd.google.colaboratory.intrinsic+json": {
              "type": "string"
            },
            "text/plain": [
              "'Pramod'"
            ]
          },
          "execution_count": 37,
          "metadata": {},
          "output_type": "execute_result"
        }
      ],
      "source": [
        "pw.name"
      ]
    },
    {
      "cell_type": "code",
      "execution_count": null,
      "metadata": {
        "colab": {
          "base_uri": "https://localhost:8080/",
          "height": 36
        },
        "id": "3zEQtHytB5tG",
        "outputId": "efd43e52-2933-4268-88cb-dd832901e97d"
      },
      "outputs": [
        {
          "data": {
            "application/vnd.google.colaboratory.intrinsic+json": {
              "type": "string"
            },
            "text/plain": [
              "'mayu'"
            ]
          },
          "execution_count": 35,
          "metadata": {},
          "output_type": "execute_result"
        }
      ],
      "source": [
        "pw2.name"
      ]
    },
    {
      "cell_type": "code",
      "execution_count": null,
      "metadata": {
        "id": "_IL5zGX0ypDZ"
      },
      "outputs": [],
      "source": []
    },
    {
      "cell_type": "code",
      "execution_count": null,
      "metadata": {
        "colab": {
          "base_uri": "https://localhost:8080/",
          "height": 36
        },
        "id": "zsp7-yv3Nyi2",
        "outputId": "42a99c89-9716-4111-a00d-fa290e0091ef"
      },
      "outputs": [
        {
          "data": {
            "application/vnd.google.colaboratory.intrinsic+json": {
              "type": "string"
            },
            "text/plain": [
              "'Pramod@gmail.com'"
            ]
          },
          "execution_count": 33,
          "metadata": {},
          "output_type": "execute_result"
        }
      ],
      "source": [
        "pw.email"
      ]
    },
    {
      "cell_type": "code",
      "execution_count": null,
      "metadata": {
        "colab": {
          "base_uri": "https://localhost:8080/"
        },
        "id": "mFASMAIVNyRQ",
        "outputId": "7401c269-b0f7-4669-83c6-7718e16e9c63"
      },
      "outputs": [
        {
          "name": "stdout",
          "output_type": "stream",
          "text": [
            "Pramod Pramod@gmail.com\n"
          ]
        }
      ],
      "source": [
        "pw.student_details()"
      ]
    },
    {
      "cell_type": "markdown",
      "metadata": {
        "id": "6WHcHKOEOquL"
      },
      "source": [
        "## ***Special Funtions*** ( Magic or Dunder Funtion ):\n",
        "\n",
        "Special funtion are used to perfrom opration on given data.\n",
        "\n",
        "its not used manually\n",
        "\n",
        "\n",
        "\n",
        "*   dir(int) -> Shown all directory of integer Dunder Funtions\n",
        "*   dir(str) -> shown all directory of string releted Dunder funtions\n",
        "*   dir(magic Funtion)\n"
      ]
    },
    {
      "cell_type": "code",
      "execution_count": null,
      "metadata": {
        "colab": {
          "base_uri": "https://localhost:8080/"
        },
        "id": "tfnBVXBaOXnq",
        "outputId": "c885804d-7d43-427e-ac36-119d784b0ace"
      },
      "outputs": [
        {
          "data": {
            "text/plain": [
              "['__abs__',\n",
              " '__add__',\n",
              " '__and__',\n",
              " '__bool__',\n",
              " '__ceil__',\n",
              " '__class__',\n",
              " '__delattr__',\n",
              " '__dir__',\n",
              " '__divmod__',\n",
              " '__doc__',\n",
              " '__eq__',\n",
              " '__float__',\n",
              " '__floor__',\n",
              " '__floordiv__',\n",
              " '__format__',\n",
              " '__ge__',\n",
              " '__getattribute__',\n",
              " '__getnewargs__',\n",
              " '__gt__',\n",
              " '__hash__',\n",
              " '__index__',\n",
              " '__init__',\n",
              " '__init_subclass__',\n",
              " '__int__',\n",
              " '__invert__',\n",
              " '__le__',\n",
              " '__lshift__',\n",
              " '__lt__',\n",
              " '__mod__',\n",
              " '__mul__',\n",
              " '__ne__',\n",
              " '__neg__',\n",
              " '__new__',\n",
              " '__or__',\n",
              " '__pos__',\n",
              " '__pow__',\n",
              " '__radd__',\n",
              " '__rand__',\n",
              " '__rdivmod__',\n",
              " '__reduce__',\n",
              " '__reduce_ex__',\n",
              " '__repr__',\n",
              " '__rfloordiv__',\n",
              " '__rlshift__',\n",
              " '__rmod__',\n",
              " '__rmul__',\n",
              " '__ror__',\n",
              " '__round__',\n",
              " '__rpow__',\n",
              " '__rrshift__',\n",
              " '__rshift__',\n",
              " '__rsub__',\n",
              " '__rtruediv__',\n",
              " '__rxor__',\n",
              " '__setattr__',\n",
              " '__sizeof__',\n",
              " '__str__',\n",
              " '__sub__',\n",
              " '__subclasshook__',\n",
              " '__truediv__',\n",
              " '__trunc__',\n",
              " '__xor__',\n",
              " 'as_integer_ratio',\n",
              " 'bit_count',\n",
              " 'bit_length',\n",
              " 'conjugate',\n",
              " 'denominator',\n",
              " 'from_bytes',\n",
              " 'imag',\n",
              " 'numerator',\n",
              " 'real',\n",
              " 'to_bytes']"
            ]
          },
          "execution_count": 38,
          "metadata": {},
          "output_type": "execute_result"
        }
      ],
      "source": [
        "dir(int)"
      ]
    },
    {
      "cell_type": "code",
      "execution_count": null,
      "metadata": {
        "colab": {
          "base_uri": "https://localhost:8080/"
        },
        "id": "I1DwZx_LQy2Z",
        "outputId": "0624edf8-9f7a-48a3-8ffe-23e36f900e2f"
      },
      "outputs": [
        {
          "data": {
            "text/plain": [
              "['__add__',\n",
              " '__class__',\n",
              " '__contains__',\n",
              " '__delattr__',\n",
              " '__dir__',\n",
              " '__doc__',\n",
              " '__eq__',\n",
              " '__format__',\n",
              " '__ge__',\n",
              " '__getattribute__',\n",
              " '__getitem__',\n",
              " '__getnewargs__',\n",
              " '__gt__',\n",
              " '__hash__',\n",
              " '__init__',\n",
              " '__init_subclass__',\n",
              " '__iter__',\n",
              " '__le__',\n",
              " '__len__',\n",
              " '__lt__',\n",
              " '__mod__',\n",
              " '__mul__',\n",
              " '__ne__',\n",
              " '__new__',\n",
              " '__reduce__',\n",
              " '__reduce_ex__',\n",
              " '__repr__',\n",
              " '__rmod__',\n",
              " '__rmul__',\n",
              " '__setattr__',\n",
              " '__sizeof__',\n",
              " '__str__',\n",
              " '__subclasshook__',\n",
              " 'capitalize',\n",
              " 'casefold',\n",
              " 'center',\n",
              " 'count',\n",
              " 'encode',\n",
              " 'endswith',\n",
              " 'expandtabs',\n",
              " 'find',\n",
              " 'format',\n",
              " 'format_map',\n",
              " 'index',\n",
              " 'isalnum',\n",
              " 'isalpha',\n",
              " 'isascii',\n",
              " 'isdecimal',\n",
              " 'isdigit',\n",
              " 'isidentifier',\n",
              " 'islower',\n",
              " 'isnumeric',\n",
              " 'isprintable',\n",
              " 'isspace',\n",
              " 'istitle',\n",
              " 'isupper',\n",
              " 'join',\n",
              " 'ljust',\n",
              " 'lower',\n",
              " 'lstrip',\n",
              " 'maketrans',\n",
              " 'partition',\n",
              " 'removeprefix',\n",
              " 'removesuffix',\n",
              " 'replace',\n",
              " 'rfind',\n",
              " 'rindex',\n",
              " 'rjust',\n",
              " 'rpartition',\n",
              " 'rsplit',\n",
              " 'rstrip',\n",
              " 'split',\n",
              " 'splitlines',\n",
              " 'startswith',\n",
              " 'strip',\n",
              " 'swapcase',\n",
              " 'title',\n",
              " 'translate',\n",
              " 'upper',\n",
              " 'zfill']"
            ]
          },
          "execution_count": 39,
          "metadata": {},
          "output_type": "execute_result"
        }
      ],
      "source": [
        "dir(str)"
      ]
    },
    {
      "cell_type": "code",
      "execution_count": null,
      "metadata": {
        "id": "G5aVbHj9Q1k9"
      },
      "outputs": [],
      "source": [
        "class test:\n",
        "  def __str__(cls): #magic method\n",
        "    print(\"this is dunder\")\n",
        "\n",
        "  def __init__(self):\n",
        "    print(\"this is init method\")\n",
        "    self.mobile = 7777777777"
      ]
    },
    {
      "cell_type": "code",
      "execution_count": null,
      "metadata": {
        "colab": {
          "base_uri": "https://localhost:8080/"
        },
        "id": "N9M_-mp4RVMX",
        "outputId": "22ea35b7-9142-4ed6-b05d-c275fbba3cd1"
      },
      "outputs": [
        {
          "name": "stdout",
          "output_type": "stream",
          "text": [
            "this is init method\n"
          ]
        }
      ],
      "source": [
        "test1 = test()"
      ]
    },
    {
      "cell_type": "code",
      "execution_count": null,
      "metadata": {
        "id": "P_4l5_IhReJi"
      },
      "outputs": [],
      "source": [
        "class test2:\n",
        "  def __init__(self): #magic method\n",
        "    self.mobile = 7777775555\n",
        "\n",
        "  def __str__(self):\n",
        "   return \"this is init method\"\n"
      ]
    },
    {
      "cell_type": "code",
      "execution_count": null,
      "metadata": {
        "id": "9webyTbMSOUz"
      },
      "outputs": [],
      "source": [
        "test2_obj = test2()"
      ]
    },
    {
      "cell_type": "code",
      "execution_count": null,
      "metadata": {
        "colab": {
          "base_uri": "https://localhost:8080/"
        },
        "id": "6iBsUPOdSVFK",
        "outputId": "40049a73-3b0e-43d5-b95d-d225b24fbef2"
      },
      "outputs": [
        {
          "data": {
            "text/plain": [
              "<__main__.test2 at 0x7b3d3346f400>"
            ]
          },
          "execution_count": 50,
          "metadata": {},
          "output_type": "execute_result"
        }
      ],
      "source": [
        "test2_obj"
      ]
    },
    {
      "cell_type": "code",
      "execution_count": null,
      "metadata": {
        "colab": {
          "base_uri": "https://localhost:8080/"
        },
        "id": "lNlx-KKYSX3C",
        "outputId": "44d5ba25-d0d6-45d9-c23e-86dc969d37ef"
      },
      "outputs": [
        {
          "name": "stdout",
          "output_type": "stream",
          "text": [
            "this is init method\n"
          ]
        }
      ],
      "source": [
        "print(test2_obj)"
      ]
    },
    {
      "cell_type": "markdown",
      "metadata": {
        "id": "h2aPPXN1Svh8"
      },
      "source": [
        "## ***Property Decorator***\n",
        "\n",
        "it is used to access Private or Protected veriable using property decorator."
      ]
    },
    {
      "cell_type": "code",
      "execution_count": null,
      "metadata": {
        "id": "mkhiBVlaTIxS"
      },
      "outputs": [],
      "source": [
        "class practice:\n",
        "  def __init__(self,price,name):\n",
        "    self.price = price\n",
        "    self.name = name\n",
        "\n",
        "  @property\n",
        "  def price_access(self):\n",
        "    return self.price\n",
        "\n",
        "  @price_access.setter\n",
        "  def price_set(self,price):\n",
        "    if price <= 3500:\n",
        "      pass\n",
        "    else:\n",
        "      self.__price = price\n",
        "\n",
        "  @price_access.deleter\n",
        "  def del_price(self):\n",
        "    del self.price"
      ]
    },
    {
      "cell_type": "code",
      "execution_count": null,
      "metadata": {
        "id": "LmEJnGasURjx"
      },
      "outputs": [],
      "source": [
        "DS = practice(2500,\"Book\")"
      ]
    },
    {
      "cell_type": "code",
      "execution_count": null,
      "metadata": {
        "colab": {
          "base_uri": "https://localhost:8080/"
        },
        "id": "gxeww_iyUcog",
        "outputId": "e50a8b70-2ab9-4b22-cb1f-cdf582d8d858"
      },
      "outputs": [
        {
          "data": {
            "text/plain": [
              "2500"
            ]
          },
          "execution_count": 62,
          "metadata": {},
          "output_type": "execute_result"
        }
      ],
      "source": [
        "DS.price_access"
      ]
    },
    {
      "cell_type": "code",
      "execution_count": null,
      "metadata": {
        "colab": {
          "base_uri": "https://localhost:8080/",
          "height": 144
        },
        "id": "IQomEElk5kag",
        "outputId": "e4935da5-7f35-4288-e24d-d8ec636daac6"
      },
      "outputs": [
        {
          "ename": "TypeError",
          "evalue": "'int' object is not callable",
          "output_type": "error",
          "traceback": [
            "\u001b[0;31m---------------------------------------------------------------------------\u001b[0m",
            "\u001b[0;31mTypeError\u001b[0m                                 Traceback (most recent call last)",
            "\u001b[0;32m<ipython-input-63-6567690c1d71>\u001b[0m in \u001b[0;36m<cell line: 1>\u001b[0;34m()\u001b[0m\n\u001b[0;32m----> 1\u001b[0;31m \u001b[0mDS\u001b[0m\u001b[0;34m.\u001b[0m\u001b[0mdel_price\u001b[0m\u001b[0;34m(\u001b[0m\u001b[0;34m)\u001b[0m\u001b[0;34m\u001b[0m\u001b[0;34m\u001b[0m\u001b[0m\n\u001b[0m",
            "\u001b[0;31mTypeError\u001b[0m: 'int' object is not callable"
          ]
        }
      ],
      "source": [
        "DS.del_price()"
      ]
    },
    {
      "cell_type": "code",
      "execution_count": null,
      "metadata": {
        "colab": {
          "base_uri": "https://localhost:8080/",
          "height": 270
        },
        "id": "R_fPpQAB5Pf3",
        "outputId": "75185918-2b51-471f-ab01-8b2b00322c78"
      },
      "outputs": [
        {
          "ename": "AttributeError",
          "evalue": "'practice' object has no attribute 'price'",
          "output_type": "error",
          "traceback": [
            "\u001b[0;31m---------------------------------------------------------------------------\u001b[0m",
            "\u001b[0;31mAttributeError\u001b[0m                            Traceback (most recent call last)",
            "\u001b[0;32m<ipython-input-66-f4af7922ddef>\u001b[0m in \u001b[0;36m<cell line: 1>\u001b[0;34m()\u001b[0m\n\u001b[0;32m----> 1\u001b[0;31m \u001b[0mDS\u001b[0m\u001b[0;34m.\u001b[0m\u001b[0mprice_set\u001b[0m\u001b[0;34m(\u001b[0m\u001b[0;36m2800\u001b[0m\u001b[0;34m)\u001b[0m\u001b[0;34m\u001b[0m\u001b[0;34m\u001b[0m\u001b[0m\n\u001b[0m",
            "\u001b[0;32m<ipython-input-55-016b4c776461>\u001b[0m in \u001b[0;36mprice_access\u001b[0;34m(self)\u001b[0m\n\u001b[1;32m      6\u001b[0m   \u001b[0;34m@\u001b[0m\u001b[0mproperty\u001b[0m\u001b[0;34m\u001b[0m\u001b[0;34m\u001b[0m\u001b[0m\n\u001b[1;32m      7\u001b[0m   \u001b[0;32mdef\u001b[0m \u001b[0mprice_access\u001b[0m\u001b[0;34m(\u001b[0m\u001b[0mself\u001b[0m\u001b[0;34m)\u001b[0m\u001b[0;34m:\u001b[0m\u001b[0;34m\u001b[0m\u001b[0;34m\u001b[0m\u001b[0m\n\u001b[0;32m----> 8\u001b[0;31m     \u001b[0;32mreturn\u001b[0m \u001b[0mself\u001b[0m\u001b[0;34m.\u001b[0m\u001b[0mprice\u001b[0m\u001b[0;34m\u001b[0m\u001b[0;34m\u001b[0m\u001b[0m\n\u001b[0m\u001b[1;32m      9\u001b[0m \u001b[0;34m\u001b[0m\u001b[0m\n\u001b[1;32m     10\u001b[0m   \u001b[0;34m@\u001b[0m\u001b[0mprice_access\u001b[0m\u001b[0;34m.\u001b[0m\u001b[0msetter\u001b[0m\u001b[0;34m\u001b[0m\u001b[0;34m\u001b[0m\u001b[0m\n",
            "\u001b[0;31mAttributeError\u001b[0m: 'practice' object has no attribute 'price'"
          ]
        }
      ],
      "source": [
        "DS.price_set(2800)"
      ]
    },
    {
      "cell_type": "code",
      "execution_count": null,
      "metadata": {
        "id": "odxIIwvNUuyl"
      },
      "outputs": [],
      "source": [
        "del DS.del_price"
      ]
    },
    {
      "cell_type": "markdown",
      "metadata": {
        "id": "vg13xjTcq6SB"
      },
      "source": [
        "##  ***File Handling***\n",
        "\n",
        "file handiling are used to handeld all opration like read ,write, update on file."
      ]
    },
    {
      "cell_type": "code",
      "execution_count": null,
      "metadata": {
        "id": "fHIJg7Mjrg4h"
      },
      "outputs": [],
      "source": [
        "file = open(\"test.txt\",'w') # test is file name with extention & W is a mode to write opration on file\n",
        "file.write(\"this is my frist file to perform write opration on it \")  # write opration\n",
        "file.close() #always must to close file for save changes on file"
      ]
    },
    {
      "cell_type": "code",
      "execution_count": null,
      "metadata": {
        "id": "G4PVwl8HrqZs"
      },
      "outputs": [],
      "source": [
        "file = open(\"test.txt\",'a') # append data on existing file\n",
        "file.write(\"\\n this is data that can i append\")\n",
        "file.close()"
      ]
    },
    {
      "cell_type": "code",
      "execution_count": null,
      "metadata": {
        "colab": {
          "base_uri": "https://localhost:8080/",
          "height": 36
        },
        "id": "V3eHD5RotHih",
        "outputId": "4a353e3b-cee6-498c-c98d-4d990920ff44"
      },
      "outputs": [
        {
          "data": {
            "application/vnd.google.colaboratory.intrinsic+json": {
              "type": "string"
            },
            "text/plain": [
              "'this is my frist file to perform write opration on it \\n\\n this is data that can i append'"
            ]
          },
          "execution_count": 3,
          "metadata": {},
          "output_type": "execute_result"
        }
      ],
      "source": [
        "file = open(\"test.txt\",'r') # read data on existing file\n",
        "file.read()\n"
      ]
    },
    {
      "cell_type": "code",
      "execution_count": null,
      "metadata": {
        "id": "k5HXd_0KHy2g"
      },
      "outputs": [],
      "source": []
    },
    {
      "cell_type": "code",
      "execution_count": null,
      "metadata": {
        "colab": {
          "base_uri": "https://localhost:8080/",
          "height": 36
        },
        "id": "g4MiWgHVnn_v",
        "outputId": "fac4c963-4b31-4358-bbdf-fd0f68d49f70"
      },
      "outputs": [
        {
          "data": {
            "application/vnd.google.colaboratory.intrinsic+json": {
              "type": "string"
            },
            "text/plain": [
              "'this is my frist file to perform write opration on it \\n\\n this is data that can i append'"
            ]
          },
          "execution_count": 6,
          "metadata": {},
          "output_type": "execute_result"
        }
      ],
      "source": [
        "file = open(\"test.txt\",'r') # read data on existing file\n",
        "file.read()"
      ]
    },
    {
      "cell_type": "code",
      "execution_count": null,
      "metadata": {
        "colab": {
          "base_uri": "https://localhost:8080/"
        },
        "id": "PPQ3Dt_tnfOi",
        "outputId": "7adc5e3f-bed1-4f59-cfa1-7631709df50b"
      },
      "outputs": [
        {
          "data": {
            "text/plain": [
              "0"
            ]
          },
          "execution_count": 8,
          "metadata": {},
          "output_type": "execute_result"
        }
      ],
      "source": [
        "file.readline() # read line by line\n",
        "file.seek(0)   # set curser / pointer at 0"
      ]
    },
    {
      "cell_type": "code",
      "execution_count": null,
      "metadata": {
        "colab": {
          "base_uri": "https://localhost:8080/",
          "height": 36
        },
        "id": "UzMQabxqoekk",
        "outputId": "346f7828-e22d-49ca-fb75-958429fbaec7"
      },
      "outputs": [
        {
          "data": {
            "application/vnd.google.colaboratory.intrinsic+json": {
              "type": "string"
            },
            "text/plain": [
              "'this is my frist file to perform write opration on it \\n\\n this is data that can i append'"
            ]
          },
          "execution_count": 9,
          "metadata": {},
          "output_type": "execute_result"
        }
      ],
      "source": [
        "file.read()"
      ]
    },
    {
      "cell_type": "code",
      "execution_count": null,
      "metadata": {
        "colab": {
          "base_uri": "https://localhost:8080/"
        },
        "id": "wgm7nl4lti3g",
        "outputId": "fea4fced-a484-44d6-fb0a-9d6a765034f9"
      },
      "outputs": [
        {
          "name": "stdout",
          "output_type": "stream",
          "text": [
            "this is my frist file to perform write opration on it \n",
            "\n",
            "\n",
            "\n",
            " this is data that can i append\n"
          ]
        }
      ],
      "source": [
        "data = open(\"test.txt\",'r')\n",
        "for i in data:\n",
        "  print(i)"
      ]
    },
    {
      "cell_type": "code",
      "execution_count": null,
      "metadata": {
        "colab": {
          "base_uri": "https://localhost:8080/"
        },
        "id": "rN_O6krat1FW",
        "outputId": "aa5372ab-226f-4eb2-e001-3304e50f3877"
      },
      "outputs": [
        {
          "data": {
            "text/plain": [
              "87"
            ]
          },
          "execution_count": 11,
          "metadata": {},
          "output_type": "execute_result"
        }
      ],
      "source": [
        "import os\n",
        "os.path.getsize(\"test.txt\")  # check size of file"
      ]
    },
    {
      "cell_type": "code",
      "execution_count": null,
      "metadata": {
        "id": "7-4hLk0Fua3v"
      },
      "outputs": [],
      "source": [
        "os.rename(\"test.txt\", \"newfile.txt\")  # rename the file"
      ]
    },
    {
      "cell_type": "code",
      "execution_count": null,
      "metadata": {
        "id": "t29CTSw3uAln"
      },
      "outputs": [],
      "source": [
        "os.remove(\"test.txt\") # remove file"
      ]
    },
    {
      "cell_type": "code",
      "execution_count": null,
      "metadata": {
        "colab": {
          "base_uri": "https://localhost:8080/",
          "height": 36
        },
        "id": "r3NZydqDukGY",
        "outputId": "f0fe8c12-1a91-4bad-90b2-b41814e82ca4"
      },
      "outputs": [
        {
          "data": {
            "application/vnd.google.colaboratory.intrinsic+json": {
              "type": "string"
            },
            "text/plain": [
              "'copyfile.txt'"
            ]
          },
          "execution_count": 15,
          "metadata": {},
          "output_type": "execute_result"
        }
      ],
      "source": [
        "import shutil\n",
        "shutil.copy(\"newfile.txt\",\"copyfile.txt\")"
      ]
    },
    {
      "cell_type": "code",
      "execution_count": null,
      "metadata": {
        "colab": {
          "base_uri": "https://localhost:8080/"
        },
        "id": "vkrUupmIux-8",
        "outputId": "9999e627-bad9-4501-a4e4-f067f8f4e150"
      },
      "outputs": [
        {
          "name": "stdout",
          "output_type": "stream",
          "text": [
            "this is my frist file to perform write opration on it \n",
            "\n",
            " this is data that can i append\n"
          ]
        }
      ],
      "source": [
        "with open(\"newfile.txt\",'r') as f:\n",
        "  print(f.read())"
      ]
    },
    {
      "cell_type": "markdown",
      "metadata": {
        "id": "lnesUvt5wtei"
      },
      "source": [
        "### ***Buffer Read And Write***"
      ]
    },
    {
      "cell_type": "code",
      "execution_count": null,
      "metadata": {
        "id": "TFK0v77Vu__s"
      },
      "outputs": [],
      "source": [
        "import io\n",
        "with open (\"copyfile.txt\",'wb')as f:\n",
        "  file = io.BufferedWriter(f)\n",
        "  file.write(b\" this is frist line\")\n",
        "  file.write(b\"\\n this is second line\")\n",
        "  file.flush()"
      ]
    },
    {
      "cell_type": "code",
      "execution_count": null,
      "metadata": {
        "colab": {
          "base_uri": "https://localhost:8080/"
        },
        "id": "dFeCezCbxyVs",
        "outputId": "4a316c2a-a91c-470d-eefc-6f891bafc77e"
      },
      "outputs": [
        {
          "name": "stdout",
          "output_type": "stream",
          "text": [
            "b' this is frist line\\n this is second line'\n"
          ]
        }
      ],
      "source": [
        "with open(\"copyfile.txt\",'rb') as f :\n",
        "  file = io.BufferedReader(f)\n",
        "  data = file.read()\n",
        "  print(data)"
      ]
    },
    {
      "cell_type": "code",
      "execution_count": null,
      "metadata": {
        "colab": {
          "base_uri": "https://localhost:8080/"
        },
        "id": "DMylLzzHvLLV",
        "outputId": "c74e7766-fd29-4163-e7fa-c0b8e15543ff"
      },
      "outputs": [
        {
          "name": "stdout",
          "output_type": "stream",
          "text": [
            "32\n",
            "116\n",
            "104\n",
            "105\n",
            "115\n",
            "32\n",
            "105\n",
            "115\n",
            "32\n",
            "102\n",
            "114\n",
            "105\n",
            "115\n",
            "116\n",
            "32\n",
            "108\n",
            "105\n",
            "110\n",
            "101\n",
            "10\n",
            "32\n",
            "116\n",
            "104\n",
            "105\n",
            "115\n",
            "32\n",
            "105\n",
            "115\n",
            "32\n",
            "115\n",
            "101\n",
            "99\n",
            "111\n",
            "110\n",
            "100\n",
            "32\n",
            "108\n",
            "105\n",
            "110\n",
            "101\n"
          ]
        }
      ],
      "source": [
        "for i in data:\n",
        "  print(i)"
      ]
    },
    {
      "cell_type": "markdown",
      "metadata": {
        "id": "YRZyYi18zFPy"
      },
      "source": [
        "### ***Logging In Python***\n",
        "\n",
        "Logging model are used to insted of print(), it is permantly saved in .log file\n",
        "\n",
        "LEVEL:\n",
        "1.   NOTSET\n",
        "2.   DEBUG\n",
        "3.   INFO\n",
        "4.   WARNING\n",
        "5.   ERROR\n",
        "6.   CRITICAL\n",
        "\n"
      ]
    },
    {
      "cell_type": "code",
      "execution_count": null,
      "metadata": {
        "id": "s2UJAz4QzdBx"
      },
      "outputs": [],
      "source": [
        "import logging\n",
        "logging.basicConfig(filename = \"test.log\", level = logging.INFO)\n",
        "logging.info(\"log this line of confuguration\")\n",
        "logging.debug(\"this is debug\")\n",
        "logging.shutdown()  # if you want to create new log file that time close previous file"
      ]
    },
    {
      "cell_type": "code",
      "execution_count": null,
      "metadata": {
        "colab": {
          "base_uri": "https://localhost:8080/"
        },
        "id": "AVILDlXI2Dmz",
        "outputId": "7199d5bd-19a1-45ea-c3bd-fd15c1786c5f"
      },
      "outputs": [
        {
          "name": "stderr",
          "output_type": "stream",
          "text": [
            "ERROR:root:this is error\n",
            "CRITICAL:root:this is critical \n"
          ]
        }
      ],
      "source": [
        "import logging\n",
        "logging.basicConfig(filename = \"test2.log\", level = logging.DEBUG, format='%(asctime)s')\n",
        "logging.error(\"this is error\")\n",
        "logging.critical(\"this is critical \")\n",
        "logging.shutdown()  # if you want to create new log file that time close previous file"
      ]
    },
    {
      "cell_type": "code",
      "execution_count": null,
      "metadata": {
        "colab": {
          "base_uri": "https://localhost:8080/"
        },
        "id": "4uT3TmcF3crE",
        "outputId": "a2c661f0-17e8-420c-9564-27bbd0b92ba9"
      },
      "outputs": [
        {
          "name": "stderr",
          "output_type": "stream",
          "text": [
            "WARNING:root:hey\n",
            "CRITICAL:root:critical\n",
            "CRITICAL:root:critical\n",
            "CRITICAL:root:critical\n"
          ]
        }
      ],
      "source": [
        "list1 = [1,2,3,4,5,[12,23,34],\"pama\",\"rama\"]\n",
        "l1_int = []\n",
        "l2_str = []\n",
        "\n",
        "for i in list1:\n",
        "  logging.info(\"we are in list iteration\")\n",
        "  if type(i) == list:\n",
        "    logging.warning(\"hey\")\n",
        "    for j in i:\n",
        "      if type(j) == int:\n",
        "        l1_int.append(j)\n",
        "        logging.critical(\"critical\")\n",
        "  elif type(i) == int:\n",
        "    l1_int.append(i)\n",
        "  else:\n",
        "    if type(i) == str:\n",
        "      l2_str.append(i)"
      ]
    },
    {
      "cell_type": "code",
      "execution_count": null,
      "metadata": {
        "colab": {
          "base_uri": "https://localhost:8080/"
        },
        "id": "BiKKmvbw6Yp0",
        "outputId": "77df75e6-5917-43fa-fcc9-81da999a2c22"
      },
      "outputs": [
        {
          "data": {
            "text/plain": [
              "[1, 2, 3, 4, 5, 12, 23, 34]"
            ]
          },
          "execution_count": 32,
          "metadata": {},
          "output_type": "execute_result"
        }
      ],
      "source": [
        "l1_int"
      ]
    },
    {
      "cell_type": "code",
      "execution_count": null,
      "metadata": {
        "colab": {
          "base_uri": "https://localhost:8080/"
        },
        "id": "A9JpjE4D7agH",
        "outputId": "ce728851-a805-474e-95fa-dcb558f37bc8"
      },
      "outputs": [
        {
          "data": {
            "text/plain": [
              "['pama', 'rama']"
            ]
          },
          "execution_count": 33,
          "metadata": {},
          "output_type": "execute_result"
        }
      ],
      "source": [
        "l2_str"
      ]
    },
    {
      "cell_type": "markdown",
      "metadata": {
        "id": "LuO462b18xGY"
      },
      "source": [
        "### ***Exception Handling With try-Except***\n",
        "\n",
        "Avoid the error and exicute complate code with exceptions.\n"
      ]
    },
    {
      "cell_type": "code",
      "execution_count": null,
      "metadata": {
        "colab": {
          "base_uri": "https://localhost:8080/",
          "height": 159
        },
        "id": "NnFETTj67iAH",
        "outputId": "7819365f-bbc0-4a2d-f8fe-da8936a0befb"
      },
      "outputs": [
        {
          "ename": "FileNotFoundError",
          "evalue": "[Errno 2] No such file or directory: 'test.txt'",
          "output_type": "error",
          "traceback": [
            "\u001b[0;31m---------------------------------------------------------------------------\u001b[0m",
            "\u001b[0;31mFileNotFoundError\u001b[0m                         Traceback (most recent call last)",
            "\u001b[0;32m<ipython-input-3-58a7ef9ff4ce>\u001b[0m in \u001b[0;36m<cell line: 1>\u001b[0;34m()\u001b[0m\n\u001b[0;32m----> 1\u001b[0;31m \u001b[0mfile\u001b[0m \u001b[0;34m=\u001b[0m \u001b[0mopen\u001b[0m\u001b[0;34m(\u001b[0m\u001b[0;34m\"test.txt\"\u001b[0m\u001b[0;34m,\u001b[0m\u001b[0;34m'r'\u001b[0m\u001b[0;34m)\u001b[0m\u001b[0;34m\u001b[0m\u001b[0;34m\u001b[0m\u001b[0m\n\u001b[0m\u001b[1;32m      2\u001b[0m \u001b[0mprint\u001b[0m\u001b[0;34m(\u001b[0m\u001b[0;34m\"hey, How are you ..! \"\u001b[0m\u001b[0;34m)\u001b[0m\u001b[0;34m\u001b[0m\u001b[0;34m\u001b[0m\u001b[0m\n",
            "\u001b[0;31mFileNotFoundError\u001b[0m: [Errno 2] No such file or directory: 'test.txt'"
          ]
        }
      ],
      "source": [
        "file = open(\"test.txt\",'r') # error\n",
        "print(\"hey, How are you ..! \")"
      ]
    },
    {
      "cell_type": "code",
      "execution_count": null,
      "metadata": {
        "colab": {
          "base_uri": "https://localhost:8080/"
        },
        "id": "axiXCjTc-R1D",
        "outputId": "2b3e4f5c-23c2-4f66-ed12-f3d23f216872"
      },
      "outputs": [
        {
          "name": "stdout",
          "output_type": "stream",
          "text": [
            "[Errno 2] No such file or directory: 'test.txt'\n",
            "how are you....!\n"
          ]
        }
      ],
      "source": [
        "try:\n",
        "  file = open(\"test.txt\",'r')\n",
        "except Exception as e:\n",
        "  print(e)\n",
        "\n",
        "print(\"how are you....!\") # statements"
      ]
    },
    {
      "cell_type": "code",
      "execution_count": null,
      "metadata": {
        "colab": {
          "base_uri": "https://localhost:8080/"
        },
        "id": "le_WFCXp-HSK",
        "outputId": "07207cee-351c-4c5b-bffc-e34ee0e3c1bc"
      },
      "outputs": [
        {
          "name": "stdout",
          "output_type": "stream",
          "text": [
            "[Errno 2] No such file or directory: 'test.txt'\n"
          ]
        }
      ],
      "source": [
        "try:\n",
        "  file = open(\"test.txt\",'r')\n",
        "  # file.write(\"i write into my file\")\n",
        "except Exception as e:\n",
        "  print(e)\n",
        "else:\n",
        "  file.close()\n",
        "  print(\"this block are exicute without an error\")"
      ]
    },
    {
      "cell_type": "code",
      "execution_count": null,
      "metadata": {
        "colab": {
          "base_uri": "https://localhost:8080/"
        },
        "id": "oj1oZLSU_TEX",
        "outputId": "d86c59e5-f224-4da5-85df-88f74d96cb5d"
      },
      "outputs": [
        {
          "name": "stdout",
          "output_type": "stream",
          "text": [
            "[Errno 2] No such file or directory: 'test.txt'\n",
            "this is Exicute in any situation\n"
          ]
        }
      ],
      "source": [
        "try:\n",
        "  file2 = open(\"test.txt\",'r')\n",
        "except Exception as e:\n",
        "  print(e)\n",
        "finally:\n",
        "  print(\"this is Exicute in any situation\")"
      ]
    },
    {
      "cell_type": "markdown",
      "metadata": {
        "id": "gFiAV9YHAuzu"
      },
      "source": [
        "### ***Custom Exception Handling***"
      ]
    },
    {
      "cell_type": "code",
      "execution_count": null,
      "metadata": {
        "id": "1oLLghRJPvQh"
      },
      "outputs": [],
      "source": [
        "class ValidateAge(Exception):\n",
        "  def __init__(self, msg):\n",
        "    self.msg = msg"
      ]
    },
    {
      "cell_type": "code",
      "execution_count": null,
      "metadata": {
        "id": "U1X4CVw7QIMk"
      },
      "outputs": [],
      "source": [
        "def ValidAge(age): #17\n",
        "  if age < 18 : # True\n",
        "    raise ValidateAge(\"age is under 18\")\n",
        "  elif age > 100:\n",
        "    raise ValidateAge(\"Is Above 100\")\n",
        "  else:\n",
        "    print(\"age is valid\")\n"
      ]
    },
    {
      "cell_type": "code",
      "execution_count": null,
      "metadata": {
        "colab": {
          "base_uri": "https://localhost:8080/"
        },
        "id": "cAqcJwjURLYt",
        "outputId": "92565b3d-72dd-4d47-aafe-4d81e25c92cb"
      },
      "outputs": [
        {
          "name": "stdout",
          "output_type": "stream",
          "text": [
            "enter age17\n",
            "age is under 18\n"
          ]
        }
      ],
      "source": [
        "try:\n",
        "  age = int(input(\"enter age\"))\n",
        "  ValidAge(age)\n",
        "except Exception as e:\n",
        "  print(e)"
      ]
    },
    {
      "cell_type": "code",
      "execution_count": null,
      "metadata": {
        "colab": {
          "base_uri": "https://localhost:8080/"
        },
        "id": "Gcu_WSxPT3gU",
        "outputId": "0ccaff10-099e-4abd-9b0c-ff1306f136fb"
      },
      "outputs": [
        {
          "name": "stdout",
          "output_type": "stream",
          "text": [
            "division by zero\n"
          ]
        }
      ],
      "source": [
        "try:\n",
        "  10/0\n",
        "except Exception as e:\n",
        "  print(e)"
      ]
    },
    {
      "cell_type": "code",
      "execution_count": null,
      "metadata": {
        "colab": {
          "base_uri": "https://localhost:8080/"
        },
        "id": "3nyyP5suUNyM",
        "outputId": "2e114e52-1148-46e8-cc44-d19d4b9f0641"
      },
      "outputs": [
        {
          "name": "stdout",
          "output_type": "stream",
          "text": [
            "division by zero\n"
          ]
        }
      ],
      "source": [
        "try:\n",
        "  10/0\n",
        "except ZeroDivisionError as e:\n",
        "  print(e)"
      ]
    },
    {
      "cell_type": "code",
      "execution_count": null,
      "metadata": {
        "colab": {
          "base_uri": "https://localhost:8080/"
        },
        "id": "-kvrQ1oMUcmt",
        "outputId": "d78adcc1-2890-4692-bc5a-78448a9d9f55"
      },
      "outputs": [
        {
          "name": "stderr",
          "output_type": "stream",
          "text": [
            "ERROR:root:i ama trying to handle error division by zero\n"
          ]
        }
      ],
      "source": [
        "# always try to log your error\n",
        "# document all the error\n",
        "#always avoid to write a multiple Eceptions handling\n",
        "# print always proper massage of error\n",
        "# clanup all the resources\n",
        "\n",
        "import logging\n",
        "logging.basicConfig(filename=\"error.log\", level=logging.ERROR)\n",
        "try:\n",
        "  10/0\n",
        "except ZeroDivisionError as e:\n",
        "  logging.error(\"i ama trying to handle error {}\".format(e))"
      ]
    },
    {
      "cell_type": "code",
      "execution_count": null,
      "metadata": {
        "id": "wIjaYXZcYyOY"
      },
      "outputs": [],
      "source": [
        "try:\n",
        "  with open(\"test4.txt\",'a') as f:\n",
        "    f.write(\"hello\")\n",
        "except Exception as e:\n",
        "  print(e)\n"
      ]
    },
    {
      "cell_type": "markdown",
      "metadata": {
        "id": "GRskpLzBa7QP"
      },
      "source": [
        "### ***Multithreding***\n",
        "\n",
        "In one Core exicute more then one process/Program is called Multithreding"
      ]
    },
    {
      "cell_type": "markdown",
      "metadata": {
        "id": "V2mOWHP1dDD_"
      },
      "source": [
        "Mult"
      ]
    },
    {
      "cell_type": "markdown",
      "metadata": {
        "id": "jIuSh4xRm0Nw"
      },
      "source": [
        "## ***Multiprocessing***"
      ]
    },
    {
      "cell_type": "code",
      "execution_count": null,
      "metadata": {
        "id": "9c9gW15Nm5KY"
      },
      "outputs": [],
      "source": [
        "import multiprocessing\n",
        "def test():\n",
        "  print(\"this is my test class\")"
      ]
    },
    {
      "cell_type": "code",
      "execution_count": null,
      "metadata": {
        "colab": {
          "base_uri": "https://localhost:8080/"
        },
        "id": "3CsIx7HAnXlo",
        "outputId": "af045d97-099c-4639-a37b-ca84663c7375"
      },
      "outputs": [
        {
          "name": "stdout",
          "output_type": "stream",
          "text": [
            "this is main Program\n",
            "this is my test class\n"
          ]
        }
      ],
      "source": [
        "if __name__=='__main__':\n",
        "  mul = multiprocessing.Process(target = test)\n",
        "  print(\"this is main Program\")\n",
        "  mul.start()  # used to child Process\n",
        "  mul.join() # release resourses after used"
      ]
    },
    {
      "cell_type": "code",
      "execution_count": null,
      "metadata": {
        "id": "Ea0DQm2-oG-Q"
      },
      "outputs": [],
      "source": [
        "def squree(n):\n",
        "  return n**2"
      ]
    },
    {
      "cell_type": "code",
      "execution_count": null,
      "metadata": {
        "colab": {
          "base_uri": "https://localhost:8080/"
        },
        "id": "HOSwIkHapy0U",
        "outputId": "efbf4e6f-27fd-403d-fced-91b405bad33d"
      },
      "outputs": [
        {
          "name": "stdout",
          "output_type": "stream",
          "text": [
            "[1, 4, 9, 16, 25, 36, 49, 64, 81, 441, 1024, 1849, 25, 2809, 16, 1089, 4096, 5625, 5776]\n"
          ]
        }
      ],
      "source": [
        "if __name__ == '__main__':\n",
        "  with multiprocessing.Pool(processes = 4) as f:\n",
        "    out = f.map(squree,[1,2,3,4,5,6,7,8,9,21,32,43,5,53,4,33,64,75,76])\n",
        "    print(out)"
      ]
    },
    {
      "cell_type": "code",
      "execution_count": null,
      "metadata": {
        "id": "fwj6i7nWte0P"
      },
      "outputs": [],
      "source": [
        "def producer(q):\n",
        "  for i in range(10):\n",
        "    q.put(i)\n",
        "\n",
        "def consumer(q):\n",
        "  while True:\n",
        "    item = q.get()\n",
        "    if item is None:\n",
        "      break\n",
        "    print(item)\n"
      ]
    },
    {
      "cell_type": "code",
      "execution_count": null,
      "metadata": {
        "id": "IZfbH7bEuQ-o"
      },
      "outputs": [],
      "source": [
        "if __name__ == '__main__':\n",
        "  queue = multiprocessing.Queue()\n",
        "  m1 = multiprocessing.Process(target = producer, args = (queue,))\n",
        "  m2 = multiprocessing.Process(target = consumer, args = (queue,))\n",
        "  m1.start()\n",
        "  m2.start()\n",
        "  queue.put(\"pama\")\n",
        "  m1.join()\n",
        "  m2.join()"
      ]
    },
    {
      "cell_type": "markdown",
      "metadata": {
        "id": "j4JqkQIdyH7I"
      },
      "source": [
        "## ***SQL***\n",
        "working with sql\n",
        "\n",
        "SQL :- Struture data, Sequence, database = MySQL - SQL, MSSQL - Microsoft, DB2 - IBM\n",
        "\n",
        "NoSQL :- Unstructure data, no Sequence, Database = MangoDB, Cassard\n",
        "\n",
        "CREATE DATABASE Test: # creating database\n",
        "\n",
        "\n",
        "create table Student(id int, name Varchar, Marks Float) # create table in Database\n",
        "\n"
      ]
    },
    {
      "cell_type": "code",
      "execution_count": null,
      "metadata": {
        "id": "N9DdvsfcyHOA"
      },
      "outputs": [],
      "source": [
        "# demo.py\n",
        "\n",
        "import mysql.connector\n",
        "mydb = mysql.connector.connect(\n",
        "        host = \"localhost\",\n",
        "        user = \"abc\",\n",
        "        password = \"Password\"\n",
        ")\n",
        "mycursor = mydb.cursor() # point out\n",
        "mycursor.execute(\"Show Database\")\n",
        "for x in mycursor:\n",
        "    print(x)"
      ]
    },
    {
      "cell_type": "code",
      "execution_count": null,
      "metadata": {
        "colab": {
          "base_uri": "https://localhost:8080/"
        },
        "id": "iRiDGFYKmNz6",
        "outputId": "b215e680-2cc4-4ffd-d479-4ab4056e162f"
      },
      "outputs": [
        {
          "name": "stdout",
          "output_type": "stream",
          "text": [
            "Collecting mysql.connector\n",
            "  Downloading mysql-connector-2.2.9.tar.gz (11.9 MB)\n",
            "\u001b[2K     \u001b[90m━━━━━━━━━━━━━━━━━━━━━━━━━━━━━━━━━━━━━━━━\u001b[0m \u001b[32m11.9/11.9 MB\u001b[0m \u001b[31m80.5 MB/s\u001b[0m eta \u001b[36m0:00:00\u001b[0m\n",
            "\u001b[?25h  Preparing metadata (setup.py) ... \u001b[?25l\u001b[?25hdone\n",
            "Building wheels for collected packages: mysql.connector\n",
            "  Building wheel for mysql.connector (setup.py) ... \u001b[?25l\u001b[?25hdone\n",
            "  Created wheel for mysql.connector: filename=mysql_connector-2.2.9-cp310-cp310-linux_x86_64.whl size=247948 sha256=ce7d78a80d517d4494d2f7a3341e73a60b5ebd09646e3d48c8cacd96bba3736f\n",
            "  Stored in directory: /root/.cache/pip/wheels/76/48/9b/da67ff1a18fe8e9d428f9b1a177716d4a7d363d2bbe83bf6cf\n",
            "Successfully built mysql.connector\n",
            "Installing collected packages: mysql.connector\n",
            "Successfully installed mysql.connector-2.2.9\n"
          ]
        }
      ],
      "source": [
        "pip install mysql.connector\n"
      ]
    },
    {
      "cell_type": "code",
      "execution_count": null,
      "metadata": {
        "id": "kqCM42peaT0D"
      },
      "outputs": [],
      "source": [
        "import mysql.connector\n",
        "mydb = mysql.connector.connect(\n",
        "        host = \"localhost\",\n",
        "        user = \"root\",\n",
        "        password = \"root\"\n",
        ")\n",
        "mycursor = mydb.cursor() # point out\n",
        "mycursor.execute(\"create database test2\") # create database\n",
        "mydb.close()\n",
        "mycursor.exicute(\"Create table Student(id int, name Varchar, Marks Float)\") # create table\n",
        "mycursor.exicute(\"insert into Student(1,'Mayuri',98)\") # insert Values in Table\n",
        "mycursor.exicute(\"insert into test2.student.values(2,'Butaki',95)\")\n",
        "mydb.commit() # Save all changes\n",
        "mydb.close()\n",
        "\n"
      ]
    },
    {
      "cell_type": "markdown",
      "metadata": {
        "id": "G7YS6AFanFyC"
      },
      "source": [
        "## ***Flask***\n",
        "\n",
        "- open source web-Framework\n",
        "- Light-weight\n",
        "- to host site on local\n"
      ]
    },
    {
      "cell_type": "code",
      "execution_count": null,
      "metadata": {
        "colab": {
          "background_save": true,
          "base_uri": "https://localhost:8080/"
        },
        "id": "P6aUiqN9ngKw",
        "outputId": "bb66d73a-7bb3-4194-d4f2-f5283719f3d1"
      },
      "outputs": [
        {
          "name": "stdout",
          "output_type": "stream",
          "text": [
            " * Serving Flask app '__main__'\n",
            " * Debug mode: off\n"
          ]
        },
        {
          "name": "stderr",
          "output_type": "stream",
          "text": [
            "INFO:werkzeug:\u001b[31m\u001b[1mWARNING: This is a development server. Do not use it in a production deployment. Use a production WSGI server instead.\u001b[0m\n",
            " * Running on all addresses (0.0.0.0)\n",
            " * Running on http://127.0.0.1:5000\n",
            " * Running on http://172.28.0.12:5000\n",
            "INFO:werkzeug:\u001b[33mPress CTRL+C to quit\u001b[0m\n"
          ]
        }
      ],
      "source": [
        "# app.py\n",
        "\n",
        "from flask import Flask\n",
        "app = Flask(__name__)\n",
        "\n",
        "@app.route(\"/home\")\n",
        "def hello():\n",
        "  return \"<h1>Hello , Mayuri..!</h1>\"\n",
        "\n",
        "if __name__ == \"__main__\":\n",
        "  app.run(host=\"0.0.0.0\")\n"
      ]
    },
    {
      "cell_type": "markdown",
      "source": [
        "## ***Web API***\n",
        "\n",
        "API = Application Programming Interface\n",
        "Web API : HTTP/HTTPS -> hypertext Transfer Protocol Sceure\n",
        "\n",
        "Protocol -> Set of Rule or Instructions\n",
        "API -> TCP/IP or HTTP\n",
        "\n",
        "\n",
        "REST AND SOAP Architecture:\n",
        "\n",
        "REST -> http = put,get,push,delete,Over the web\n",
        "  - simplicity, scalability,Flexibility, Easy to impliments.\n",
        "\n",
        "Soap -> XML = massaging protocol, HTTP,SMTP,TCP/IP\n",
        "\n",
        "     - WSDL = Web Service Discription Language\n",
        "     - Hard to impliment\n",
        "     - lightweight to comapred as REST\n",
        "     - More Sequrity as compared to REST\n",
        "\n",
        "\n",
        "Restful Service:\n",
        "\n",
        "follows REST Architeture.\n",
        "REST -. Representianol State Tranform\n",
        "  - client - server Archi\n",
        "  - Stateless\n",
        "  - cachable\n",
        "  - uniform Interface\n",
        "  - Layered System"
      ],
      "metadata": {
        "id": "s-ZBuCzrkUFj"
      }
    },
    {
      "cell_type": "markdown",
      "source": [
        "## ***POSTMAN***\n",
        "\n",
        "- it is used to test APIs\n",
        "\n"
      ],
      "metadata": {
        "id": "CGFRwgeTpsfE"
      }
    },
    {
      "cell_type": "code",
      "source": [],
      "metadata": {
        "id": "0RuIK67OqGt5"
      },
      "execution_count": null,
      "outputs": []
    }
  ],
  "metadata": {
    "colab": {
      "collapsed_sections": [
        "5FZ6dqKJM7ej",
        "lIfBnnK6Q-PD",
        "cUW22oCrxILV",
        "cZXcmda9MeHn",
        "6WHcHKOEOquL",
        "h2aPPXN1Svh8",
        "vg13xjTcq6SB"
      ],
      "provenance": []
    },
    "kernelspec": {
      "display_name": "Python 3",
      "name": "python3"
    },
    "language_info": {
      "name": "python"
    }
  },
  "nbformat": 4,
  "nbformat_minor": 0
}